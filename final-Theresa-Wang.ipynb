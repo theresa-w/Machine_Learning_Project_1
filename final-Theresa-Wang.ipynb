{
 "cells": [
  {
   "cell_type": "markdown",
   "metadata": {
    "collapsed": true
   },
   "source": [
    "## Analysis of Customer Review Sentiment"
   ]
  },
  {
   "cell_type": "markdown",
   "metadata": {},
   "source": [
    "### Introduction"
   ]
  },
  {
   "cell_type": "markdown",
   "metadata": {},
   "source": [
    "This notebook uses Python programming language to build a machine learning model to identify the sentiment of customer reviews in a E-Commerce store for Women's Clothing. The information used is a real commercial and anoymised data."
   ]
  },
  {
   "cell_type": "code",
   "execution_count": 1,
   "metadata": {},
   "outputs": [],
   "source": [
    "import numpy as np\n",
    "import pandas as pd\n",
    "import matplotlib\n",
    "import matplotlib.pyplot as plt\n",
    "import seaborn as sns\n",
    "import string\n",
    "\n",
    "#pip install -U textblob\n",
    "from textblob import TextBlob\n",
    "\n",
    "#pip install --user -U nltk\n",
    "#import nltk\n",
    "#nltk.download()\n",
    "from nltk.tag import pos_tag\n",
    "from nltk.corpus import stopwords\n",
    "from nltk.stem.wordnet import WordNetLemmatizer\n",
    "\n",
    "\n",
    "from sklearn.feature_extraction.text import TfidfVectorizer"
   ]
  },
  {
   "cell_type": "code",
   "execution_count": 2,
   "metadata": {},
   "outputs": [
    {
     "data": {
      "text/plain": [
       "(23486, 11)"
      ]
     },
     "execution_count": 2,
     "metadata": {},
     "output_type": "execute_result"
    }
   ],
   "source": [
    "# Open the dataset and create a Dataframe\n",
    "df = pd.read_csv('Womens Clothing E-Commerce Reviews.csv')\n",
    "df.shape"
   ]
  },
  {
   "cell_type": "code",
   "execution_count": 3,
   "metadata": {},
   "outputs": [],
   "source": [
    "df = df.drop(['Unnamed: 0'], axis=1)\n",
    "df = df.rename(columns = {'Clothing ID': 'Clothing_ID', 'Review Text': 'Review', 'Recommended IND': 'Recommended', 'Positive Feedback Count': 'Positive_feedback_count', 'Division Name': 'Division', 'Department Name': 'Department', 'Class Name': 'Class'})"
   ]
  },
  {
   "cell_type": "markdown",
   "metadata": {},
   "source": [
    "### General Dataset Exploration"
   ]
  },
  {
   "cell_type": "markdown",
   "metadata": {},
   "source": [
    "The dataset includes 23486 rows and 10 feature variables, with each row being one customer review. The reviews are for 1206 different clothes items which can be categorised into 3 divisions, 6 departments and 20 classes. All reviews have a associated clothes ID, however, some reviews are not categorised into a division, department or a class. \n",
    "\n",
    "The positive feedback count is a positive interger documenting the number of other customers who found this review positive.\n",
    "\n",
    "The recommanded column is a binary value indicating whether the cusotmer recommends this product, with 1 being recommended and 0 being not recommended."
   ]
  },
  {
   "cell_type": "code",
   "execution_count": 4,
   "metadata": {
    "scrolled": false
   },
   "outputs": [
    {
     "data": {
      "text/html": [
       "<div>\n",
       "<style scoped>\n",
       "    .dataframe tbody tr th:only-of-type {\n",
       "        vertical-align: middle;\n",
       "    }\n",
       "\n",
       "    .dataframe tbody tr th {\n",
       "        vertical-align: top;\n",
       "    }\n",
       "\n",
       "    .dataframe thead th {\n",
       "        text-align: right;\n",
       "    }\n",
       "</style>\n",
       "<table border=\"1\" class=\"dataframe\">\n",
       "  <thead>\n",
       "    <tr style=\"text-align: right;\">\n",
       "      <th></th>\n",
       "      <th>Clothing_ID</th>\n",
       "      <th>Age</th>\n",
       "      <th>Title</th>\n",
       "      <th>Review</th>\n",
       "      <th>Rating</th>\n",
       "      <th>Recommended</th>\n",
       "      <th>Positive_feedback_count</th>\n",
       "      <th>Division</th>\n",
       "      <th>Department</th>\n",
       "      <th>Class</th>\n",
       "    </tr>\n",
       "  </thead>\n",
       "  <tbody>\n",
       "    <tr>\n",
       "      <td>0</td>\n",
       "      <td>767</td>\n",
       "      <td>33</td>\n",
       "      <td>NaN</td>\n",
       "      <td>Absolutely wonderful - silky and sexy and comf...</td>\n",
       "      <td>4</td>\n",
       "      <td>1</td>\n",
       "      <td>0</td>\n",
       "      <td>Initmates</td>\n",
       "      <td>Intimate</td>\n",
       "      <td>Intimates</td>\n",
       "    </tr>\n",
       "    <tr>\n",
       "      <td>1</td>\n",
       "      <td>1080</td>\n",
       "      <td>34</td>\n",
       "      <td>NaN</td>\n",
       "      <td>Love this dress!  it's sooo pretty.  i happene...</td>\n",
       "      <td>5</td>\n",
       "      <td>1</td>\n",
       "      <td>4</td>\n",
       "      <td>General</td>\n",
       "      <td>Dresses</td>\n",
       "      <td>Dresses</td>\n",
       "    </tr>\n",
       "    <tr>\n",
       "      <td>2</td>\n",
       "      <td>1077</td>\n",
       "      <td>60</td>\n",
       "      <td>Some major design flaws</td>\n",
       "      <td>I had such high hopes for this dress and reall...</td>\n",
       "      <td>3</td>\n",
       "      <td>0</td>\n",
       "      <td>0</td>\n",
       "      <td>General</td>\n",
       "      <td>Dresses</td>\n",
       "      <td>Dresses</td>\n",
       "    </tr>\n",
       "    <tr>\n",
       "      <td>3</td>\n",
       "      <td>1049</td>\n",
       "      <td>50</td>\n",
       "      <td>My favorite buy!</td>\n",
       "      <td>I love, love, love this jumpsuit. it's fun, fl...</td>\n",
       "      <td>5</td>\n",
       "      <td>1</td>\n",
       "      <td>0</td>\n",
       "      <td>General Petite</td>\n",
       "      <td>Bottoms</td>\n",
       "      <td>Pants</td>\n",
       "    </tr>\n",
       "    <tr>\n",
       "      <td>4</td>\n",
       "      <td>847</td>\n",
       "      <td>47</td>\n",
       "      <td>Flattering shirt</td>\n",
       "      <td>This shirt is very flattering to all due to th...</td>\n",
       "      <td>5</td>\n",
       "      <td>1</td>\n",
       "      <td>6</td>\n",
       "      <td>General</td>\n",
       "      <td>Tops</td>\n",
       "      <td>Blouses</td>\n",
       "    </tr>\n",
       "  </tbody>\n",
       "</table>\n",
       "</div>"
      ],
      "text/plain": [
       "   Clothing_ID  Age                    Title  \\\n",
       "0          767   33                      NaN   \n",
       "1         1080   34                      NaN   \n",
       "2         1077   60  Some major design flaws   \n",
       "3         1049   50         My favorite buy!   \n",
       "4          847   47         Flattering shirt   \n",
       "\n",
       "                                              Review  Rating  Recommended  \\\n",
       "0  Absolutely wonderful - silky and sexy and comf...       4            1   \n",
       "1  Love this dress!  it's sooo pretty.  i happene...       5            1   \n",
       "2  I had such high hopes for this dress and reall...       3            0   \n",
       "3  I love, love, love this jumpsuit. it's fun, fl...       5            1   \n",
       "4  This shirt is very flattering to all due to th...       5            1   \n",
       "\n",
       "   Positive_feedback_count        Division Department      Class  \n",
       "0                        0       Initmates   Intimate  Intimates  \n",
       "1                        4         General    Dresses    Dresses  \n",
       "2                        0         General    Dresses    Dresses  \n",
       "3                        0  General Petite    Bottoms      Pants  \n",
       "4                        6         General       Tops    Blouses  "
      ]
     },
     "execution_count": 4,
     "metadata": {},
     "output_type": "execute_result"
    }
   ],
   "source": [
    "df.head()"
   ]
  },
  {
   "cell_type": "code",
   "execution_count": 5,
   "metadata": {
    "scrolled": true
   },
   "outputs": [
    {
     "name": "stdout",
     "output_type": "stream",
     "text": [
      "False (1206,)\n",
      "['Initmates' 'General' 'General Petite' nan] (4,)\n",
      "['Intimate' 'Dresses' 'Bottoms' 'Tops' 'Jackets' 'Trend' nan] (7,)\n",
      "['Intimates' 'Dresses' 'Pants' 'Blouses' 'Knits' 'Outerwear' 'Lounge'\n",
      " 'Sweaters' 'Skirts' 'Fine gauge' 'Sleep' 'Jackets' 'Swim' 'Trend' 'Jeans'\n",
      " 'Legwear' 'Shorts' 'Layering' 'Casual bottoms' nan 'Chemises'] (21,)\n"
     ]
    }
   ],
   "source": [
    "print(pd.isnull(df.Clothing_ID).any(), pd.unique(df.Clothing_ID).shape)\n",
    "print(pd.unique(df.Division), pd.unique(df.Division).shape)\n",
    "print(pd.unique(df.Department), pd.unique(df.Department).shape)\n",
    "print(pd.unique(df.Class), pd.unique(df.Class).shape)"
   ]
  },
  {
   "cell_type": "markdown",
   "metadata": {},
   "source": [
    "Every review has a valid rating, recommended and positive feedback count value. The distribution of the values in each category is graphed."
   ]
  },
  {
   "cell_type": "code",
   "execution_count": 6,
   "metadata": {},
   "outputs": [
    {
     "name": "stdout",
     "output_type": "stream",
     "text": [
      "False\n",
      "False\n",
      "False\n"
     ]
    }
   ],
   "source": [
    "print(pd.isnull(df.Rating).any())\n",
    "print(pd.isnull(df.Recommended).any())\n",
    "print(pd.isnull(df.Positive_feedback_count).any())"
   ]
  },
  {
   "cell_type": "code",
   "execution_count": 7,
   "metadata": {},
   "outputs": [
    {
     "data": {
      "image/png": "[encoded data removed]",
      "text/plain": [
       "<Figure size 720x216 with 3 Axes>"
      ]
     },
     "metadata": {
      "needs_background": "light"
     },
     "output_type": "display_data"
    }
   ],
   "source": [
    "a, ax = plt.subplots(1, 3, figsize=(10, 3), sharey = False)\n",
    "\n",
    "\n",
    "#Rating distribution\n",
    "sns.distplot(df.Rating, ax=ax[0])\n",
    "ax[0].set_title('Rating distribution')\n",
    "ax[0].set_ylabel('Frequency')\n",
    "\n",
    "#Recommended distribution\n",
    "sns.distplot(df.Recommended, ax=ax[1])\n",
    "ax[1].set_title('Recommended distribution')\n",
    "ax[1].set_ylabel('Frequency')\n",
    "\n",
    "#positive feedback count distribution\n",
    "sns.distplot(df.Positive_feedback_count, ax=ax[2])\n",
    "ax[2].set_title('Positive feedback count distribution')\n",
    "ax[2].set_ylabel('Frequency')\n",
    "\n",
    "plt.show()"
   ]
  },
  {
   "cell_type": "markdown",
   "metadata": {},
   "source": [
    "For the purpose of this project, the machine learning model determines whether the customer would recommend the product based on their review. The model does not consider the categories of the clothes and the age of the reviewer."
   ]
  },
  {
   "cell_type": "code",
   "execution_count": 8,
   "metadata": {},
   "outputs": [],
   "source": [
    "# Extract useful information from the DataFrame\n",
    "\n",
    "df_recommended = df.filter(['Title', 'Review', 'Recommended'], axis=1)\n",
    "df_recommended = df_recommended.fillna(\"\")\n",
    "\n",
    "# combine title and review as both indicates customer sentiment\n",
    "\n",
    "df_recommended['Combined_review'] = df_recommended.Title + \" \" + df_recommended.Review"
   ]
  },
  {
   "cell_type": "code",
   "execution_count": 9,
   "metadata": {},
   "outputs": [
    {
     "data": {
      "text/html": [
       "<div>\n",
       "<style scoped>\n",
       "    .dataframe tbody tr th:only-of-type {\n",
       "        vertical-align: middle;\n",
       "    }\n",
       "\n",
       "    .dataframe tbody tr th {\n",
       "        vertical-align: top;\n",
       "    }\n",
       "\n",
       "    .dataframe thead th {\n",
       "        text-align: right;\n",
       "    }\n",
       "</style>\n",
       "<table border=\"1\" class=\"dataframe\">\n",
       "  <thead>\n",
       "    <tr style=\"text-align: right;\">\n",
       "      <th></th>\n",
       "      <th>Title</th>\n",
       "      <th>Review</th>\n",
       "      <th>Recommended</th>\n",
       "      <th>Combined_review</th>\n",
       "    </tr>\n",
       "  </thead>\n",
       "  <tbody>\n",
       "    <tr>\n",
       "      <td>0</td>\n",
       "      <td></td>\n",
       "      <td>Absolutely wonderful - silky and sexy and comf...</td>\n",
       "      <td>1</td>\n",
       "      <td>Absolutely wonderful - silky and sexy and com...</td>\n",
       "    </tr>\n",
       "    <tr>\n",
       "      <td>1</td>\n",
       "      <td></td>\n",
       "      <td>Love this dress!  it's sooo pretty.  i happene...</td>\n",
       "      <td>1</td>\n",
       "      <td>Love this dress!  it's sooo pretty.  i happen...</td>\n",
       "    </tr>\n",
       "    <tr>\n",
       "      <td>2</td>\n",
       "      <td>Some major design flaws</td>\n",
       "      <td>I had such high hopes for this dress and reall...</td>\n",
       "      <td>0</td>\n",
       "      <td>Some major design flaws I had such high hopes ...</td>\n",
       "    </tr>\n",
       "    <tr>\n",
       "      <td>3</td>\n",
       "      <td>My favorite buy!</td>\n",
       "      <td>I love, love, love this jumpsuit. it's fun, fl...</td>\n",
       "      <td>1</td>\n",
       "      <td>My favorite buy! I love, love, love this jumps...</td>\n",
       "    </tr>\n",
       "    <tr>\n",
       "      <td>4</td>\n",
       "      <td>Flattering shirt</td>\n",
       "      <td>This shirt is very flattering to all due to th...</td>\n",
       "      <td>1</td>\n",
       "      <td>Flattering shirt This shirt is very flattering...</td>\n",
       "    </tr>\n",
       "  </tbody>\n",
       "</table>\n",
       "</div>"
      ],
      "text/plain": [
       "                     Title                                             Review  \\\n",
       "0                           Absolutely wonderful - silky and sexy and comf...   \n",
       "1                           Love this dress!  it's sooo pretty.  i happene...   \n",
       "2  Some major design flaws  I had such high hopes for this dress and reall...   \n",
       "3         My favorite buy!  I love, love, love this jumpsuit. it's fun, fl...   \n",
       "4         Flattering shirt  This shirt is very flattering to all due to th...   \n",
       "\n",
       "   Recommended                                    Combined_review  \n",
       "0            1   Absolutely wonderful - silky and sexy and com...  \n",
       "1            1   Love this dress!  it's sooo pretty.  i happen...  \n",
       "2            0  Some major design flaws I had such high hopes ...  \n",
       "3            1  My favorite buy! I love, love, love this jumps...  \n",
       "4            1  Flattering shirt This shirt is very flattering...  "
      ]
     },
     "execution_count": 9,
     "metadata": {},
     "output_type": "execute_result"
    }
   ],
   "source": [
    "df_recommended.head()"
   ]
  },
  {
   "cell_type": "markdown",
   "metadata": {},
   "source": [
    "The sentiment of the reviews are analysed with the sentiment property of TextBlob. A polarity of 1 suggests a positive statement and a polarity of -1 suggests a negative statement."
   ]
  },
  {
   "cell_type": "code",
   "execution_count": 10,
   "metadata": {},
   "outputs": [
    {
     "data": {
      "text/html": [
       "<div>\n",
       "<style scoped>\n",
       "    .dataframe tbody tr th:only-of-type {\n",
       "        vertical-align: middle;\n",
       "    }\n",
       "\n",
       "    .dataframe tbody tr th {\n",
       "        vertical-align: top;\n",
       "    }\n",
       "\n",
       "    .dataframe thead th {\n",
       "        text-align: right;\n",
       "    }\n",
       "</style>\n",
       "<table border=\"1\" class=\"dataframe\">\n",
       "  <thead>\n",
       "    <tr style=\"text-align: right;\">\n",
       "      <th></th>\n",
       "      <th>Title</th>\n",
       "      <th>Review</th>\n",
       "      <th>Recommended</th>\n",
       "      <th>Combined_review</th>\n",
       "      <th>Polarity</th>\n",
       "    </tr>\n",
       "  </thead>\n",
       "  <tbody>\n",
       "    <tr>\n",
       "      <td>0</td>\n",
       "      <td></td>\n",
       "      <td>Absolutely wonderful - silky and sexy and comf...</td>\n",
       "      <td>1</td>\n",
       "      <td>Absolutely wonderful - silky and sexy and com...</td>\n",
       "      <td>0.633333</td>\n",
       "    </tr>\n",
       "    <tr>\n",
       "      <td>1</td>\n",
       "      <td></td>\n",
       "      <td>Love this dress!  it's sooo pretty.  i happene...</td>\n",
       "      <td>1</td>\n",
       "      <td>Love this dress!  it's sooo pretty.  i happen...</td>\n",
       "      <td>0.339583</td>\n",
       "    </tr>\n",
       "    <tr>\n",
       "      <td>2</td>\n",
       "      <td>Some major design flaws</td>\n",
       "      <td>I had such high hopes for this dress and reall...</td>\n",
       "      <td>0</td>\n",
       "      <td>Some major design flaws I had such high hopes ...</td>\n",
       "      <td>0.073209</td>\n",
       "    </tr>\n",
       "    <tr>\n",
       "      <td>3</td>\n",
       "      <td>My favorite buy!</td>\n",
       "      <td>I love, love, love this jumpsuit. it's fun, fl...</td>\n",
       "      <td>1</td>\n",
       "      <td>My favorite buy! I love, love, love this jumps...</td>\n",
       "      <td>0.560714</td>\n",
       "    </tr>\n",
       "    <tr>\n",
       "      <td>4</td>\n",
       "      <td>Flattering shirt</td>\n",
       "      <td>This shirt is very flattering to all due to th...</td>\n",
       "      <td>1</td>\n",
       "      <td>Flattering shirt This shirt is very flattering...</td>\n",
       "      <td>0.512891</td>\n",
       "    </tr>\n",
       "  </tbody>\n",
       "</table>\n",
       "</div>"
      ],
      "text/plain": [
       "                     Title                                             Review  \\\n",
       "0                           Absolutely wonderful - silky and sexy and comf...   \n",
       "1                           Love this dress!  it's sooo pretty.  i happene...   \n",
       "2  Some major design flaws  I had such high hopes for this dress and reall...   \n",
       "3         My favorite buy!  I love, love, love this jumpsuit. it's fun, fl...   \n",
       "4         Flattering shirt  This shirt is very flattering to all due to th...   \n",
       "\n",
       "   Recommended                                    Combined_review  Polarity  \n",
       "0            1   Absolutely wonderful - silky and sexy and com...  0.633333  \n",
       "1            1   Love this dress!  it's sooo pretty.  i happen...  0.339583  \n",
       "2            0  Some major design flaws I had such high hopes ...  0.073209  \n",
       "3            1  My favorite buy! I love, love, love this jumps...  0.560714  \n",
       "4            1  Flattering shirt This shirt is very flattering...  0.512891  "
      ]
     },
     "execution_count": 10,
     "metadata": {},
     "output_type": "execute_result"
    }
   ],
   "source": [
    "def polarity(text):\n",
    "    text_textblob = TextBlob(text)\n",
    "    return text_textblob.sentiment.polarity\n",
    "\n",
    "\n",
    "\n",
    "df_recommended['Polarity'] = df_recommended['Combined_review'].apply(polarity)\n",
    "df_recommended.head()\n",
    "\n"
   ]
  },
  {
   "cell_type": "markdown",
   "metadata": {},
   "source": [
    "The reviews contain a mixed sentiments, with the large majority being positive reviews, followed by negative reviews, then finally the neutrual reviews. Using this dataset as t  may affect the machine learning model."
   ]
  },
  {
   "cell_type": "code",
   "execution_count": 11,
   "metadata": {},
   "outputs": [
    {
     "name": "stdout",
     "output_type": "stream",
     "text": [
      "Number of positive reviews: 21408\n",
      "Number of neutrual reviews: 897\n",
      "Number of negative reviews: 1181\n"
     ]
    }
   ],
   "source": [
    "print('Number of positive reviews:', df_recommended[(df_recommended.Polarity > 0)].count()['Polarity'])\n",
    "print('Number of neutrual reviews:', df_recommended[(df_recommended.Polarity == 0)].count()['Polarity'])\n",
    "print('Number of negative reviews:', df_recommended[(df_recommended.Polarity < 0)].count()['Polarity'])\n",
    "\n"
   ]
  },
  {
   "cell_type": "markdown",
   "metadata": {},
   "source": [
    "### Data Preprocessing"
   ]
  },
  {
   "cell_type": "markdown",
   "metadata": {},
   "source": [
    "Each review is firstly cleaned by removing punctuations, white spaces, special characters. Commonly used words that does not provide value to sentiment analysis (e.g. 'the', 'a', 'is') is removed. Then lemmatisation is performed to normalise the words with the context of vocabulary and morphological analysis of the text."
   ]
  },
  {
   "cell_type": "code",
   "execution_count": 12,
   "metadata": {},
   "outputs": [],
   "source": [
    "def lemmatise(list_words):\n",
    "    lemmatiser = WordNetLemmatizer()\n",
    "    lemmatised_words = []\n",
    "    for word, tag in pos_tag(list_words):\n",
    "        if tag.startswith('NN'):\n",
    "            pos = 'n'\n",
    "        elif tag.startswith('VB'):\n",
    "            pos = 'v'\n",
    "        else:\n",
    "            pos = 'a'\n",
    "        lemmatised_words.append(lemmatiser.lemmatize(word, pos))\n",
    "    return lemmatised_words"
   ]
  },
  {
   "cell_type": "code",
   "execution_count": 13,
   "metadata": {},
   "outputs": [],
   "source": [
    "def clean_punctuation(word): #removing punctuations\n",
    "    clean_word = ''\n",
    "    for char in word:\n",
    "        if char in string.punctuation:\n",
    "            new_char = ''\n",
    "        else:\n",
    "            new_char = char\n",
    "        clean_word += new_char\n",
    "    return clean_word"
   ]
  },
  {
   "cell_type": "code",
   "execution_count": 18,
   "metadata": {},
   "outputs": [],
   "source": [
    "def remove_nums(word): #removing numbers\n",
    "    clean_word = ''\n",
    "    for char in word:\n",
    "        if char in '0123456789':\n",
    "            new_char = ''\n",
    "        else:\n",
    "            new_char = char\n",
    "        clean_word += new_char\n",
    "    return clean_word"
   ]
  },
  {
   "cell_type": "code",
   "execution_count": 15,
   "metadata": {},
   "outputs": [],
   "source": [
    "def check_empty(word_list):\n",
    "    return list(filter(lambda x: x != '', word_list))"
   ]
  },
  {
   "cell_type": "code",
   "execution_count": 41,
   "metadata": {},
   "outputs": [],
   "source": [
    "def text_processing(text):\n",
    "    \n",
    "    #separate text into words, removing white spaces and special characters\n",
    "    tokenised = TextBlob(text.lower()).words \n",
    "    \n",
    "    clean_punc = []\n",
    "    for word in tokenised:\n",
    "        no_num = remove_nums(word)\n",
    "        clean_word = clean_punctuation(no_num)\n",
    "        clean_punc.append(clean_word)\n",
    "    \n",
    "    clean_punc = check_empty(clean_punc)\n",
    "    \n",
    "    #remove stop words\n",
    "    removed_stopwords = [word for word in clean_punc if word not in stopwords.words('english')]\n",
    "    \n",
    "    lemmatised_words = lemmatise(removed_stopwords)\n",
    "    \n",
    "    return \" \".join(lemmatised_words)"
   ]
  },
  {
   "cell_type": "code",
   "execution_count": 42,
   "metadata": {
    "scrolled": false
   },
   "outputs": [
    {
     "data": {
      "text/html": [
       "<div>\n",
       "<style scoped>\n",
       "    .dataframe tbody tr th:only-of-type {\n",
       "        vertical-align: middle;\n",
       "    }\n",
       "\n",
       "    .dataframe tbody tr th {\n",
       "        vertical-align: top;\n",
       "    }\n",
       "\n",
       "    .dataframe thead th {\n",
       "        text-align: right;\n",
       "    }\n",
       "</style>\n",
       "<table border=\"1\" class=\"dataframe\">\n",
       "  <thead>\n",
       "    <tr style=\"text-align: right;\">\n",
       "      <th></th>\n",
       "      <th>Title</th>\n",
       "      <th>Review</th>\n",
       "      <th>Recommended</th>\n",
       "      <th>Combined_review</th>\n",
       "      <th>Polarity</th>\n",
       "      <th>Processed_text</th>\n",
       "    </tr>\n",
       "  </thead>\n",
       "  <tbody>\n",
       "    <tr>\n",
       "      <td>0</td>\n",
       "      <td></td>\n",
       "      <td>Absolutely wonderful - silky and sexy and comf...</td>\n",
       "      <td>1</td>\n",
       "      <td>Absolutely wonderful - silky and sexy and com...</td>\n",
       "      <td>0.633333</td>\n",
       "      <td>absolutely wonderful silky sexy comfortable</td>\n",
       "    </tr>\n",
       "    <tr>\n",
       "      <td>1</td>\n",
       "      <td></td>\n",
       "      <td>Love this dress!  it's sooo pretty.  i happene...</td>\n",
       "      <td>1</td>\n",
       "      <td>Love this dress!  it's sooo pretty.  i happen...</td>\n",
       "      <td>0.339583</td>\n",
       "      <td>love dress sooo pretty happen find store glad ...</td>\n",
       "    </tr>\n",
       "    <tr>\n",
       "      <td>2</td>\n",
       "      <td>Some major design flaws</td>\n",
       "      <td>I had such high hopes for this dress and reall...</td>\n",
       "      <td>0</td>\n",
       "      <td>Some major design flaws I had such high hopes ...</td>\n",
       "      <td>0.073209</td>\n",
       "      <td>major design flaws high hope dress really want...</td>\n",
       "    </tr>\n",
       "    <tr>\n",
       "      <td>3</td>\n",
       "      <td>My favorite buy!</td>\n",
       "      <td>I love, love, love this jumpsuit. it's fun, fl...</td>\n",
       "      <td>1</td>\n",
       "      <td>My favorite buy! I love, love, love this jumps...</td>\n",
       "      <td>0.560714</td>\n",
       "      <td>favorite buy love love love jumpsuit fun flirt...</td>\n",
       "    </tr>\n",
       "    <tr>\n",
       "      <td>4</td>\n",
       "      <td>Flattering shirt</td>\n",
       "      <td>This shirt is very flattering to all due to th...</td>\n",
       "      <td>1</td>\n",
       "      <td>Flattering shirt This shirt is very flattering...</td>\n",
       "      <td>0.512891</td>\n",
       "      <td>flatter shirt shirt flatter due adjustable fro...</td>\n",
       "    </tr>\n",
       "  </tbody>\n",
       "</table>\n",
       "</div>"
      ],
      "text/plain": [
       "                     Title                                             Review  \\\n",
       "0                           Absolutely wonderful - silky and sexy and comf...   \n",
       "1                           Love this dress!  it's sooo pretty.  i happene...   \n",
       "2  Some major design flaws  I had such high hopes for this dress and reall...   \n",
       "3         My favorite buy!  I love, love, love this jumpsuit. it's fun, fl...   \n",
       "4         Flattering shirt  This shirt is very flattering to all due to th...   \n",
       "\n",
       "   Recommended                                    Combined_review  Polarity  \\\n",
       "0            1   Absolutely wonderful - silky and sexy and com...  0.633333   \n",
       "1            1   Love this dress!  it's sooo pretty.  i happen...  0.339583   \n",
       "2            0  Some major design flaws I had such high hopes ...  0.073209   \n",
       "3            1  My favorite buy! I love, love, love this jumps...  0.560714   \n",
       "4            1  Flattering shirt This shirt is very flattering...  0.512891   \n",
       "\n",
       "                                      Processed_text  \n",
       "0        absolutely wonderful silky sexy comfortable  \n",
       "1  love dress sooo pretty happen find store glad ...  \n",
       "2  major design flaws high hope dress really want...  \n",
       "3  favorite buy love love love jumpsuit fun flirt...  \n",
       "4  flatter shirt shirt flatter due adjustable fro...  "
      ]
     },
     "execution_count": 42,
     "metadata": {},
     "output_type": "execute_result"
    }
   ],
   "source": [
    "df_recommended['Processed_text'] = df_recommended.Combined_review.apply(text_processing)\n",
    "df_recommended.head()"
   ]
  },
  {
   "cell_type": "markdown",
   "metadata": {},
   "source": [
    "### Feature Extraction"
   ]
  },
  {
   "cell_type": "markdown",
   "metadata": {},
   "source": [
    "The two most commonly used method for feature extraction are Bag of Words (BOW) or Term Frequency-Inverse Document Frequency (TF-IDF)\n",
    "\n",
    "TF-IDF is used in this analysis. The words of the review are given weights in this method, with the most frequent word is given the least weight and the least frequent word is given the most weight. The purpose is to pick out the distinct words between the reviews that can be used to differentiate each review."
   ]
  },
  {
   "cell_type": "code",
   "execution_count": 90,
   "metadata": {},
   "outputs": [
    {
     "data": {
      "text/plain": [
       "(23486, 6)"
      ]
     },
     "execution_count": 90,
     "metadata": {},
     "output_type": "execute_result"
    }
   ],
   "source": [
    "none_index = []\n",
    "for index, row in df_recommended.iterrows():\n",
    "    if row.Processed_text == []:\n",
    "        none_index.append(index)\n",
    "\n",
    "\n",
    "df_filtered = df_recommended.drop(df_recommended.index[none_index])\n",
    "df_filtered.shape\n"
   ]
  },
  {
   "cell_type": "code",
   "execution_count": 91,
   "metadata": {},
   "outputs": [
    {
     "data": {
      "text/html": [
       "<div>\n",
       "<style scoped>\n",
       "    .dataframe tbody tr th:only-of-type {\n",
       "        vertical-align: middle;\n",
       "    }\n",
       "\n",
       "    .dataframe tbody tr th {\n",
       "        vertical-align: top;\n",
       "    }\n",
       "\n",
       "    .dataframe thead th {\n",
       "        text-align: right;\n",
       "    }\n",
       "</style>\n",
       "<table border=\"1\" class=\"dataframe\">\n",
       "  <thead>\n",
       "    <tr style=\"text-align: right;\">\n",
       "      <th></th>\n",
       "      <th>Title</th>\n",
       "      <th>Review</th>\n",
       "      <th>Recommended</th>\n",
       "      <th>Combined_review</th>\n",
       "      <th>Polarity</th>\n",
       "      <th>Processed_text</th>\n",
       "      <th>tf_idf</th>\n",
       "    </tr>\n",
       "  </thead>\n",
       "  <tbody>\n",
       "    <tr>\n",
       "      <td>0</td>\n",
       "      <td></td>\n",
       "      <td>Absolutely wonderful - silky and sexy and comf...</td>\n",
       "      <td>1</td>\n",
       "      <td>Absolutely wonderful - silky and sexy and com...</td>\n",
       "      <td>0.633333</td>\n",
       "      <td>absolutely wonderful silky sexy comfortable</td>\n",
       "      <td>[0.0, 0.0, 0.0, 0.0, 0.0, 0.0, 0.0, 0.0, 0.0, ...</td>\n",
       "    </tr>\n",
       "    <tr>\n",
       "      <td>1</td>\n",
       "      <td></td>\n",
       "      <td>Love this dress!  it's sooo pretty.  i happene...</td>\n",
       "      <td>1</td>\n",
       "      <td>Love this dress!  it's sooo pretty.  i happen...</td>\n",
       "      <td>0.339583</td>\n",
       "      <td>love dress sooo pretty happen find store glad ...</td>\n",
       "      <td>[0.0, 0.0, 0.0, 0.0, 0.0, 0.0, 0.0, 0.0, 0.0, ...</td>\n",
       "    </tr>\n",
       "    <tr>\n",
       "      <td>2</td>\n",
       "      <td>Some major design flaws</td>\n",
       "      <td>I had such high hopes for this dress and reall...</td>\n",
       "      <td>0</td>\n",
       "      <td>Some major design flaws I had such high hopes ...</td>\n",
       "      <td>0.073209</td>\n",
       "      <td>major design flaws high hope dress really want...</td>\n",
       "      <td>[0.0, 0.0, 0.0, 0.0, 0.0, 0.0, 0.0, 0.0, 0.0, ...</td>\n",
       "    </tr>\n",
       "    <tr>\n",
       "      <td>3</td>\n",
       "      <td>My favorite buy!</td>\n",
       "      <td>I love, love, love this jumpsuit. it's fun, fl...</td>\n",
       "      <td>1</td>\n",
       "      <td>My favorite buy! I love, love, love this jumps...</td>\n",
       "      <td>0.560714</td>\n",
       "      <td>favorite buy love love love jumpsuit fun flirt...</td>\n",
       "      <td>[0.0, 0.0, 0.0, 0.0, 0.0, 0.0, 0.0, 0.0, 0.0, ...</td>\n",
       "    </tr>\n",
       "    <tr>\n",
       "      <td>4</td>\n",
       "      <td>Flattering shirt</td>\n",
       "      <td>This shirt is very flattering to all due to th...</td>\n",
       "      <td>1</td>\n",
       "      <td>Flattering shirt This shirt is very flattering...</td>\n",
       "      <td>0.512891</td>\n",
       "      <td>flatter shirt shirt flatter due adjustable fro...</td>\n",
       "      <td>[0.0, 0.0, 0.0, 0.0, 0.0, 0.0, 0.0, 0.0, 0.0, ...</td>\n",
       "    </tr>\n",
       "  </tbody>\n",
       "</table>\n",
       "</div>"
      ],
      "text/plain": [
       "                     Title                                             Review  \\\n",
       "0                           Absolutely wonderful - silky and sexy and comf...   \n",
       "1                           Love this dress!  it's sooo pretty.  i happene...   \n",
       "2  Some major design flaws  I had such high hopes for this dress and reall...   \n",
       "3         My favorite buy!  I love, love, love this jumpsuit. it's fun, fl...   \n",
       "4         Flattering shirt  This shirt is very flattering to all due to th...   \n",
       "\n",
       "   Recommended                                    Combined_review  Polarity  \\\n",
       "0            1   Absolutely wonderful - silky and sexy and com...  0.633333   \n",
       "1            1   Love this dress!  it's sooo pretty.  i happen...  0.339583   \n",
       "2            0  Some major design flaws I had such high hopes ...  0.073209   \n",
       "3            1  My favorite buy! I love, love, love this jumps...  0.560714   \n",
       "4            1  Flattering shirt This shirt is very flattering...  0.512891   \n",
       "\n",
       "                                      Processed_text  \\\n",
       "0        absolutely wonderful silky sexy comfortable   \n",
       "1  love dress sooo pretty happen find store glad ...   \n",
       "2  major design flaws high hope dress really want...   \n",
       "3  favorite buy love love love jumpsuit fun flirt...   \n",
       "4  flatter shirt shirt flatter due adjustable fro...   \n",
       "\n",
       "                                              tf_idf  \n",
       "0  [0.0, 0.0, 0.0, 0.0, 0.0, 0.0, 0.0, 0.0, 0.0, ...  \n",
       "1  [0.0, 0.0, 0.0, 0.0, 0.0, 0.0, 0.0, 0.0, 0.0, ...  \n",
       "2  [0.0, 0.0, 0.0, 0.0, 0.0, 0.0, 0.0, 0.0, 0.0, ...  \n",
       "3  [0.0, 0.0, 0.0, 0.0, 0.0, 0.0, 0.0, 0.0, 0.0, ...  \n",
       "4  [0.0, 0.0, 0.0, 0.0, 0.0, 0.0, 0.0, 0.0, 0.0, ...  "
      ]
     },
     "execution_count": 91,
     "metadata": {},
     "output_type": "execute_result"
    }
   ],
   "source": [
    "vectorizer = TfidfVectorizer((1, 2)) #using unigrams and bigrams\n",
    "result = vectorizer.fit_transform(df_filtered['Processed_text'])\n",
    "\n",
    "# create a DataFrame storing the tf-idf values\n",
    "df_idf = pd.DataFrame(result.toarray())\n",
    "df_idf['tf_idf'] = df_idf.values.tolist()\n",
    "\n",
    "\n",
    "#merge into one DataFrame\n",
    "\n",
    "df_concat = pd.concat([df_filtered, df_idf.tf_idf], axis=1)\n",
    "df_concat.head()"
   ]
  },
  {
   "cell_type": "code",
   "execution_count": null,
   "metadata": {},
   "outputs": [],
   "source": []
  }
 ],
 "metadata": {
  "kernelspec": {
   "display_name": "Python 3",
   "language": "python",
   "name": "python3"
  }
 },
 "nbformat": 4,
 "nbformat_minor": 2
}
