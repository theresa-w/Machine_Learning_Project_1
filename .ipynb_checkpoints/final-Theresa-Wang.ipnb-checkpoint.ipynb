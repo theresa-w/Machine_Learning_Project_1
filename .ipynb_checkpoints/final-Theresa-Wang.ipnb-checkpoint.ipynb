{
  "cells": [
    {
      "metadata": {
        "collapsed": true
      },
      "cell_type": "markdown",
      "source": "## Analysis of Customer Review Sentiment"
    },
    {
      "metadata": {},
      "cell_type": "markdown",
      "source": "### Introduction"
    },
    {
      "metadata": {},
      "cell_type": "markdown",
      "source": "This notebook uses Python programming language to build a machine learning model to identify the sentiment of customer reviews in a E-Commerce store for Women's Clothing. The information used is a real commercial and anoymised data."
    },
    {
      "metadata": {
        "trusted": true
      },
      "cell_type": "code",
      "source": "import numpy as np\nimport pandas as pd\nimport matplotlib\nimport matplotlib.pyplot as plt\nimport seaborn as sns\n",
      "execution_count": 1,
      "outputs": []
    },
    {
      "metadata": {
        "trusted": true
      },
      "cell_type": "code",
      "source": "# Open the dataset and create a Dataframe\ndf = pd.read_csv('Womens Clothing E-Commerce Reviews.csv')\ndf.shape",
      "execution_count": 2,
      "outputs": [
        {
          "output_type": "execute_result",
          "execution_count": 2,
          "data": {
            "text/plain": "(23486, 11)"
          },
          "metadata": {}
        }
      ]
    },
    {
      "metadata": {
        "trusted": true
      },
      "cell_type": "code",
      "source": "df = df.drop(['Unnamed: 0'], axis=1)\ndf = df.rename(columns = {'Clothing ID': 'Clothing_ID', 'Review Text': 'Review', 'Recommended IND': 'Recommended', 'Positive Feedback Count': 'Positive_feedback_count', 'Division Name': 'Division', 'Department Name': 'Department', 'Class Name': 'Class'})",
      "execution_count": 3,
      "outputs": []
    },
    {
      "metadata": {},
      "cell_type": "markdown",
      "source": "### General Dataset Exploration"
    },
    {
      "metadata": {},
      "cell_type": "markdown",
      "source": "The dataset includes 23486 rows and 10 feature variables, with each row being one customer review. The reviews are for 1206 different clothes items which can be categorised into 3 divisions, 6 departments and 20 classes. All reviews have a associated clothes ID, however, some reviews are not categorised into a division, department or a class. \n\nThe positive feedback count is a positive interger documenting the number of other customers who found this review positive.\n\nThe recommanded column is a binary value indicating whether the cusotmer recommends this product, with 1 being recommended and 0 being not recommended."
    },
    {
      "metadata": {
        "trusted": true,
        "scrolled": false
      },
      "cell_type": "code",
      "source": "df.head()",
      "execution_count": 4,
      "outputs": [
        {
          "output_type": "execute_result",
          "execution_count": 4,
          "data": {
            "text/html": "<div>\n<style scoped>\n    .dataframe tbody tr th:only-of-type {\n        vertical-align: middle;\n    }\n\n    .dataframe tbody tr th {\n        vertical-align: top;\n    }\n\n    .dataframe thead th {\n        text-align: right;\n    }\n</style>\n<table border=\"1\" class=\"dataframe\">\n  <thead>\n    <tr style=\"text-align: right;\">\n      <th></th>\n      <th>Clothing_ID</th>\n      <th>Age</th>\n      <th>Title</th>\n      <th>Review</th>\n      <th>Rating</th>\n      <th>Recommended</th>\n      <th>Positive_feedback_count</th>\n      <th>Division</th>\n      <th>Department</th>\n      <th>Class</th>\n    </tr>\n  </thead>\n  <tbody>\n    <tr>\n      <th>0</th>\n      <td>767</td>\n      <td>33</td>\n      <td>NaN</td>\n      <td>Absolutely wonderful - silky and sexy and comf...</td>\n      <td>4</td>\n      <td>1</td>\n      <td>0</td>\n      <td>Initmates</td>\n      <td>Intimate</td>\n      <td>Intimates</td>\n    </tr>\n    <tr>\n      <th>1</th>\n      <td>1080</td>\n      <td>34</td>\n      <td>NaN</td>\n      <td>Love this dress!  it's sooo pretty.  i happene...</td>\n      <td>5</td>\n      <td>1</td>\n      <td>4</td>\n      <td>General</td>\n      <td>Dresses</td>\n      <td>Dresses</td>\n    </tr>\n    <tr>\n      <th>2</th>\n      <td>1077</td>\n      <td>60</td>\n      <td>Some major design flaws</td>\n      <td>I had such high hopes for this dress and reall...</td>\n      <td>3</td>\n      <td>0</td>\n      <td>0</td>\n      <td>General</td>\n      <td>Dresses</td>\n      <td>Dresses</td>\n    </tr>\n    <tr>\n      <th>3</th>\n      <td>1049</td>\n      <td>50</td>\n      <td>My favorite buy!</td>\n      <td>I love, love, love this jumpsuit. it's fun, fl...</td>\n      <td>5</td>\n      <td>1</td>\n      <td>0</td>\n      <td>General Petite</td>\n      <td>Bottoms</td>\n      <td>Pants</td>\n    </tr>\n    <tr>\n      <th>4</th>\n      <td>847</td>\n      <td>47</td>\n      <td>Flattering shirt</td>\n      <td>This shirt is very flattering to all due to th...</td>\n      <td>5</td>\n      <td>1</td>\n      <td>6</td>\n      <td>General</td>\n      <td>Tops</td>\n      <td>Blouses</td>\n    </tr>\n  </tbody>\n</table>\n</div>",
            "text/plain": "   Clothing_ID  Age                    Title  \\\n0          767   33                      NaN   \n1         1080   34                      NaN   \n2         1077   60  Some major design flaws   \n3         1049   50         My favorite buy!   \n4          847   47         Flattering shirt   \n\n                                              Review  Rating  Recommended  \\\n0  Absolutely wonderful - silky and sexy and comf...       4            1   \n1  Love this dress!  it's sooo pretty.  i happene...       5            1   \n2  I had such high hopes for this dress and reall...       3            0   \n3  I love, love, love this jumpsuit. it's fun, fl...       5            1   \n4  This shirt is very flattering to all due to th...       5            1   \n\n   Positive_feedback_count        Division Department      Class  \n0                        0       Initmates   Intimate  Intimates  \n1                        4         General    Dresses    Dresses  \n2                        0         General    Dresses    Dresses  \n3                        0  General Petite    Bottoms      Pants  \n4                        6         General       Tops    Blouses  "
          },
          "metadata": {}
        }
      ]
    },
    {
      "metadata": {
        "trusted": true,
        "scrolled": true
      },
      "cell_type": "code",
      "source": "print(pd.isnull(df.Clothing_ID).any(), pd.unique(df.Clothing_ID).shape)\nprint(pd.unique(df.Division), pd.unique(df.Division).shape)\nprint(pd.unique(df.Department), pd.unique(df.Department).shape)\nprint(pd.unique(df.Class), pd.unique(df.Class).shape)",
      "execution_count": 5,
      "outputs": [
        {
          "output_type": "stream",
          "text": "False (1206,)\n['Initmates' 'General' 'General Petite' nan] (4,)\n['Intimate' 'Dresses' 'Bottoms' 'Tops' 'Jackets' 'Trend' nan] (7,)\n['Intimates' 'Dresses' 'Pants' 'Blouses' 'Knits' 'Outerwear' 'Lounge'\n 'Sweaters' 'Skirts' 'Fine gauge' 'Sleep' 'Jackets' 'Swim' 'Trend' 'Jeans'\n 'Legwear' 'Shorts' 'Layering' 'Casual bottoms' nan 'Chemises'] (21,)\n",
          "name": "stdout"
        }
      ]
    },
    {
      "metadata": {},
      "cell_type": "markdown",
      "source": "Every review has a valid rating, recommended and positive feedback count value. The distribution of the values in each category is graphed."
    },
    {
      "metadata": {
        "trusted": true
      },
      "cell_type": "code",
      "source": "print(pd.isnull(df.Rating).any())\nprint(pd.isnull(df.Recommended).any())\nprint(pd.isnull(df.Positive_feedback_count).any())",
      "execution_count": 6,
      "outputs": [
        {
          "output_type": "stream",
          "text": "False\nFalse\nFalse\n",
          "name": "stdout"
        }
      ]
    },
    {
      "metadata": {
        "trusted": true
      },
      "cell_type": "code",
      "source": "a, ax = plt.subplots(1, 3, figsize=(10, 3), sharey = False)\n\n\n#Rating distribution\nsns.distplot(df.Rating, ax=ax[0])\nax[0].set_title('Rating distribution')\nax[0].set_ylabel('Frequency')\n\n#Recommended distribution\nsns.distplot(df.Recommended, ax=ax[1])\nax[1].set_title('Recommended distribution')\nax[1].set_ylabel('Frequency')\n\n#positive feedback count distribution\nsns.distplot(df.Positive_feedback_count, ax=ax[2])\nax[2].set_title('Positive feedback count distribution')\nax[2].set_ylabel('Frequency')\n\nplt.show()",
      "execution_count": 7,
      "outputs": [
        {
          "output_type": "stream",
          "text": "/home/nbuser/anaconda3_501/lib/python3.6/site-packages/scipy/stats/stats.py:1713: FutureWarning: Using a non-tuple sequence for multidimensional indexing is deprecated; use `arr[tuple(seq)]` instead of `arr[seq]`. In the future this will be interpreted as an array index, `arr[np.array(seq)]`, which will result either in an error or a different result.\n  return np.add.reduce(sorted[indexer] * weights, axis=axis) / sumval\n",
          "name": "stderr"
        },
        {
          "output_type": "display_data",
          "data": {
            "image/png": "[encoded data removed]",
            "text/plain": "<Figure size 720x216 with 3 Axes>"
          },
          "metadata": {
            "needs_background": "light"
          }
        }
      ]
    },
    {
      "metadata": {},
      "cell_type": "markdown",
      "source": "### Data Preprocessing"
    },
    {
      "metadata": {},
      "cell_type": "markdown",
      "source": "For the purpose of this project, the machine learning model determines whether the customer would recommend the product based on their review. The model does not consider the categories of the clothes and the age of the reviewer."
    },
    {
      "metadata": {
        "trusted": true
      },
      "cell_type": "code",
      "source": "# Extract useful information from the DataFrame\n\ndf_recommended = df.filter(['Title', 'Review', 'Recommended'], axis=1)\ndf_recommended = df_recommended.fillna(\"\")\n\n# combine title and review as both indicates customer sentiment\n\ndf_recommended['Combined_review'] = df_recommended.Title + \" \" + df_recommended.Review",
      "execution_count": 10,
      "outputs": []
    },
    {
      "metadata": {
        "trusted": true
      },
      "cell_type": "code",
      "source": "df_recommended.head()",
      "execution_count": 11,
      "outputs": [
        {
          "output_type": "execute_result",
          "execution_count": 11,
          "data": {
            "text/html": "<div>\n<style scoped>\n    .dataframe tbody tr th:only-of-type {\n        vertical-align: middle;\n    }\n\n    .dataframe tbody tr th {\n        vertical-align: top;\n    }\n\n    .dataframe thead th {\n        text-align: right;\n    }\n</style>\n<table border=\"1\" class=\"dataframe\">\n  <thead>\n    <tr style=\"text-align: right;\">\n      <th></th>\n      <th>Title</th>\n      <th>Review</th>\n      <th>Recommended</th>\n      <th>Combined_review</th>\n    </tr>\n  </thead>\n  <tbody>\n    <tr>\n      <th>0</th>\n      <td></td>\n      <td>Absolutely wonderful - silky and sexy and comf...</td>\n      <td>1</td>\n      <td>Absolutely wonderful - silky and sexy and com...</td>\n    </tr>\n    <tr>\n      <th>1</th>\n      <td></td>\n      <td>Love this dress!  it's sooo pretty.  i happene...</td>\n      <td>1</td>\n      <td>Love this dress!  it's sooo pretty.  i happen...</td>\n    </tr>\n    <tr>\n      <th>2</th>\n      <td>Some major design flaws</td>\n      <td>I had such high hopes for this dress and reall...</td>\n      <td>0</td>\n      <td>Some major design flaws I had such high hopes ...</td>\n    </tr>\n    <tr>\n      <th>3</th>\n      <td>My favorite buy!</td>\n      <td>I love, love, love this jumpsuit. it's fun, fl...</td>\n      <td>1</td>\n      <td>My favorite buy! I love, love, love this jumps...</td>\n    </tr>\n    <tr>\n      <th>4</th>\n      <td>Flattering shirt</td>\n      <td>This shirt is very flattering to all due to th...</td>\n      <td>1</td>\n      <td>Flattering shirt This shirt is very flattering...</td>\n    </tr>\n  </tbody>\n</table>\n</div>",
            "text/plain": "                     Title                                             Review  \\\n0                           Absolutely wonderful - silky and sexy and comf...   \n1                           Love this dress!  it's sooo pretty.  i happene...   \n2  Some major design flaws  I had such high hopes for this dress and reall...   \n3         My favorite buy!  I love, love, love this jumpsuit. it's fun, fl...   \n4         Flattering shirt  This shirt is very flattering to all due to th...   \n\n   Recommended                                    Combined_review  \n0            1   Absolutely wonderful - silky and sexy and com...  \n1            1   Love this dress!  it's sooo pretty.  i happen...  \n2            0  Some major design flaws I had such high hopes ...  \n3            1  My favorite buy! I love, love, love this jumps...  \n4            1  Flattering shirt This shirt is very flattering...  "
          },
          "metadata": {}
        }
      ]
    },
    {
      "metadata": {
        "trusted": true
      },
      "cell_type": "code",
      "source": "",
      "execution_count": null,
      "outputs": []
    }
  ],
  "metadata": {
    "kernelspec": {
      "name": "python36",
      "display_name": "Python 3.6",
      "language": "python"
    },
    "language_info": {
      "mimetype": "text/x-python",
      "nbconvert_exporter": "python",
      "name": "python",
      "pygments_lexer": "ipython3",
      "version": "3.6.6",
      "file_extension": ".py",
      "codemirror_mode": {
        "version": 3,
        "name": "ipython"
      }
    }
  },
  "nbformat": 4,
  "nbformat_minor": 2
}