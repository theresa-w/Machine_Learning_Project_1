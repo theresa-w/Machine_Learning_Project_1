{
  "cells": [
    {
      "metadata": {
        "collapsed": true
      },
      "cell_type": "markdown",
      "source": "## Analysis of Customer Review Sentiment"
    },
    {
      "metadata": {},
      "cell_type": "markdown",
      "source": "### Introduction"
    },
    {
      "metadata": {},
      "cell_type": "markdown",
      "source": "This notebook uses Python programming language to analyse the sentiment of customer reviews in a E-Commerce store for Women's Clothing using machine learning. The information used is a real commercial and anoymised data. The dataset includes 23486 rows and 10 feature variables, with each row being one customer review."
    },
    {
      "metadata": {
        "trusted": true
      },
      "cell_type": "code",
      "source": "import numpy as np\nimport pandas as pd",
      "execution_count": 7,
      "outputs": []
    },
    {
      "metadata": {
        "trusted": true
      },
      "cell_type": "code",
      "source": "# Open the dataset and create a Dataframe\ndf = pd.read_csv('Womens Clothing E-Commerce Reviews.csv')\ndf.shape",
      "execution_count": 28,
      "outputs": [
        {
          "output_type": "execute_result",
          "execution_count": 28,
          "data": {
            "text/plain": "(23486, 11)"
          },
          "metadata": {}
        }
      ]
    },
    {
      "metadata": {
        "trusted": true
      },
      "cell_type": "code",
      "source": "df = df.drop(['Unnamed: 0'], axis=1)\ndf = df.rename(columns = {'Clothing ID': 'Clothing_ID', 'Review Text': 'Review', 'Recommended IND': 'Recommended', 'Positive Feedback Count': 'Positive_feedback_count', 'Division Name': 'Division', 'Department Name': 'Department', 'Class Name': 'Class'})",
      "execution_count": 29,
      "outputs": []
    },
    {
      "metadata": {
        "trusted": true
      },
      "cell_type": "code",
      "source": "df.head()",
      "execution_count": 30,
      "outputs": [
        {
          "output_type": "execute_result",
          "execution_count": 30,
          "data": {
            "text/html": "<div>\n<style scoped>\n    .dataframe tbody tr th:only-of-type {\n        vertical-align: middle;\n    }\n\n    .dataframe tbody tr th {\n        vertical-align: top;\n    }\n\n    .dataframe thead th {\n        text-align: right;\n    }\n</style>\n<table border=\"1\" class=\"dataframe\">\n  <thead>\n    <tr style=\"text-align: right;\">\n      <th></th>\n      <th>Clothing_ID</th>\n      <th>Age</th>\n      <th>Title</th>\n      <th>Review</th>\n      <th>Rating</th>\n      <th>Recommended</th>\n      <th>Positive_feedback_count</th>\n      <th>Division</th>\n      <th>Department</th>\n      <th>Class</th>\n    </tr>\n  </thead>\n  <tbody>\n    <tr>\n      <th>0</th>\n      <td>767</td>\n      <td>33</td>\n      <td>NaN</td>\n      <td>Absolutely wonderful - silky and sexy and comf...</td>\n      <td>4</td>\n      <td>1</td>\n      <td>0</td>\n      <td>Initmates</td>\n      <td>Intimate</td>\n      <td>Intimates</td>\n    </tr>\n    <tr>\n      <th>1</th>\n      <td>1080</td>\n      <td>34</td>\n      <td>NaN</td>\n      <td>Love this dress!  it's sooo pretty.  i happene...</td>\n      <td>5</td>\n      <td>1</td>\n      <td>4</td>\n      <td>General</td>\n      <td>Dresses</td>\n      <td>Dresses</td>\n    </tr>\n    <tr>\n      <th>2</th>\n      <td>1077</td>\n      <td>60</td>\n      <td>Some major design flaws</td>\n      <td>I had such high hopes for this dress and reall...</td>\n      <td>3</td>\n      <td>0</td>\n      <td>0</td>\n      <td>General</td>\n      <td>Dresses</td>\n      <td>Dresses</td>\n    </tr>\n    <tr>\n      <th>3</th>\n      <td>1049</td>\n      <td>50</td>\n      <td>My favorite buy!</td>\n      <td>I love, love, love this jumpsuit. it's fun, fl...</td>\n      <td>5</td>\n      <td>1</td>\n      <td>0</td>\n      <td>General Petite</td>\n      <td>Bottoms</td>\n      <td>Pants</td>\n    </tr>\n    <tr>\n      <th>4</th>\n      <td>847</td>\n      <td>47</td>\n      <td>Flattering shirt</td>\n      <td>This shirt is very flattering to all due to th...</td>\n      <td>5</td>\n      <td>1</td>\n      <td>6</td>\n      <td>General</td>\n      <td>Tops</td>\n      <td>Blouses</td>\n    </tr>\n  </tbody>\n</table>\n</div>",
            "text/plain": "   Clothing_ID  Age                    Title  \\\n0          767   33                      NaN   \n1         1080   34                      NaN   \n2         1077   60  Some major design flaws   \n3         1049   50         My favorite buy!   \n4          847   47         Flattering shirt   \n\n                                              Review  Rating  Recommended  \\\n0  Absolutely wonderful - silky and sexy and comf...       4            1   \n1  Love this dress!  it's sooo pretty.  i happene...       5            1   \n2  I had such high hopes for this dress and reall...       3            0   \n3  I love, love, love this jumpsuit. it's fun, fl...       5            1   \n4  This shirt is very flattering to all due to th...       5            1   \n\n   Positive_feedback_count        Division Department      Class  \n0                        0       Initmates   Intimate  Intimates  \n1                        4         General    Dresses    Dresses  \n2                        0         General    Dresses    Dresses  \n3                        0  General Petite    Bottoms      Pants  \n4                        6         General       Tops    Blouses  "
          },
          "metadata": {}
        }
      ]
    },
    {
      "metadata": {
        "trusted": true
      },
      "cell_type": "code",
      "source": "print(pd.unique(df.Clothing_ID).shape)\nprint(pd.unique(df.Division))\nprint(pd.unique(df.Department))\nprint(pd.unique(df.Class))",
      "execution_count": 33,
      "outputs": [
        {
          "output_type": "stream",
          "text": "(1206,)\n['Initmates' 'General' 'General Petite' nan]\n['Intimate' 'Dresses' 'Bottoms' 'Tops' 'Jackets' 'Trend' nan]\n['Intimates' 'Dresses' 'Pants' 'Blouses' 'Knits' 'Outerwear' 'Lounge'\n 'Sweaters' 'Skirts' 'Fine gauge' 'Sleep' 'Jackets' 'Swim' 'Trend' 'Jeans'\n 'Legwear' 'Shorts' 'Layering' 'Casual bottoms' nan 'Chemises']\n",
          "name": "stdout"
        }
      ]
    },
    {
      "metadata": {
        "trusted": true
      },
      "cell_type": "code",
      "source": "",
      "execution_count": null,
      "outputs": []
    }
  ],
  "metadata": {
    "kernelspec": {
      "name": "python36",
      "display_name": "Python 3.6",
      "language": "python"
    },
    "language_info": {
      "mimetype": "text/x-python",
      "nbconvert_exporter": "python",
      "name": "python",
      "pygments_lexer": "ipython3",
      "version": "3.6.6",
      "file_extension": ".py",
      "codemirror_mode": {
        "version": 3,
        "name": "ipython"
      }
    }
  },
  "nbformat": 4,
  "nbformat_minor": 2
}